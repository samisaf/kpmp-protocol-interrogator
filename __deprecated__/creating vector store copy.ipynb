{
 "cells": [
  {
   "cell_type": "markdown",
   "source": [
    "# loading and embedding additional knowledge into a vectorstore"
   ],
   "metadata": {
    "collapsed": false
   },
   "id": "615896985bcf0c96"
  },
  {
   "cell_type": "code",
   "execution_count": 58,
   "outputs": [],
   "source": [
    "# import needed libraries\n",
    "from dotenv import dotenv_values\n",
    "from langchain.document_loaders import DirectoryLoader, PyPDFDirectoryLoader\n",
    "from langchain.text_splitter import CharacterTextSplitter\n",
    "from langchain.embeddings import OpenAIEmbeddings\n",
    "from langchain.vectorstores import Chroma"
   ],
   "metadata": {
    "collapsed": false,
    "ExecuteTime": {
     "end_time": "2023-10-25T13:34:53.281217Z",
     "start_time": "2023-10-25T13:34:53.275813Z"
    }
   },
   "id": "dfdda2216f8a1515"
  },
  {
   "cell_type": "code",
   "execution_count": 59,
   "outputs": [],
   "source": [
    "def getOpenAIKey(path=\"\"):\n",
    "    \"\"\"Gets OpenAI API key from .env file\"\"\"\n",
    "    paths = [\"/Users/samisaf/openai.env\", \"C:/Users/samis/openai.env\", \"C:/Users/samisaf/openai.env\"]\n",
    "    if len(path) > 0:\n",
    "        return dotenv_values(path)['OPENAI_API_KEY']\n",
    "    else:\n",
    "        for p in paths:\n",
    "            if len(dotenv_values(p)) > 0:\n",
    "                return dotenv_values(p)['OPENAI_API_KEY']\n",
    "    return None"
   ],
   "metadata": {
    "collapsed": false,
    "ExecuteTime": {
     "end_time": "2023-10-25T13:34:53.939125Z",
     "start_time": "2023-10-25T13:34:53.933298Z"
    }
   },
   "id": "c38b09af72cec5da"
  },
  {
   "cell_type": "code",
   "execution_count": 60,
   "outputs": [],
   "source": [
    "def loadDirectorySplitDocs(path: str, chunk_size=250, chunk_overlap=25):\n",
    "    \"\"\"Loads files in a directory, then splits them\"\"\"\n",
    "    documents = DirectoryLoader(path=path).load()\n",
    "    text_splitter = CharacterTextSplitter.from_tiktoken_encoder(chunk_size=chunk_size, chunk_overlap=chunk_overlap)\n",
    "    splitDocs = text_splitter.split_documents(documents)\n",
    "    print(f\"loaded {path}. Got {len(documents)} documents. Splitted into {len(splitDocs)} parts.\")\n",
    "    return splitDocs"
   ],
   "metadata": {
    "collapsed": false,
    "ExecuteTime": {
     "end_time": "2023-10-25T13:34:54.500805Z",
     "start_time": "2023-10-25T13:34:54.495847Z"
    }
   },
   "id": "a2fc87617f22a604"
  },
  {
   "cell_type": "code",
   "execution_count": 61,
   "outputs": [
    {
     "data": {
      "text/plain": "224"
     },
     "execution_count": 61,
     "metadata": {},
     "output_type": "execute_result"
    }
   ],
   "source": [
    "# load the PDF documents and then split them\n",
    "path = './data-kpmp-oct-23'\n",
    "docs = PyPDFDirectoryLoader(path).load()\n",
    "len(docs)"
   ],
   "metadata": {
    "collapsed": false,
    "ExecuteTime": {
     "end_time": "2023-10-25T13:34:59.591988Z",
     "start_time": "2023-10-25T13:34:55.325551Z"
    }
   },
   "id": "f5c416bb9c98e3ce"
  },
  {
   "cell_type": "code",
   "execution_count": 62,
   "outputs": [
    {
     "name": "stdout",
     "output_type": "stream",
     "text": [
      "created database at ./db-kpmp-oct-23\n"
     ]
    }
   ],
   "source": [
    "# create vector dataset \n",
    "# then embed the data into a vector store\n",
    "# last store it locally through chromadb\n",
    "dbpath = \"./db-kpmp-oct-23\"\n",
    "embedding = OpenAIEmbeddings(openai_api_key=getOpenAIKey())\n",
    "db = Chroma.from_documents(docs, embedding, persist_directory=dbpath)\n",
    "db.persist()\n",
    "print(f\"created database at {dbpath}\")"
   ],
   "metadata": {
    "collapsed": false,
    "ExecuteTime": {
     "end_time": "2023-10-25T13:35:19.795291Z",
     "start_time": "2023-10-25T13:35:12.589384Z"
    }
   },
   "id": "4a37274bc9d8b079"
  },
  {
   "cell_type": "markdown",
   "source": [
    "# loading vector store, and performing similarity search"
   ],
   "metadata": {
    "collapsed": false
   },
   "id": "9b999988fa350259"
  },
  {
   "cell_type": "code",
   "execution_count": 63,
   "outputs": [
    {
     "name": "stdout",
     "output_type": "stream",
     "text": [
      "[Document(page_content='Document ID: OPS002     5/10/2023     80 \\nVersion #: 16  2. Vital sign s are monitored every 15 minutes for an hour, every 30 minutes for an hour, and then \\nhourly.  Only the vitals (pulse and blood pressure) at the four -hour mark post -biopsy need to be \\nrecorded in REDCap.  Pain level is assessed immediately and 4 hours after th e procedure.   \\n3. Participants void their bladder at least once post -procedure to verify no obstruction from clot. A \\nbedside commode is permitted, as appropriate after 2 hours of bed rest if initial urine is clear of \\ngross blood.  \\n4. If there is gross blood in the urine, participants remain at bed rest until urine is clear.  \\n5. Participants are observed for 4 hours in the post -procedure recovery area at the participating \\nsite. At the end of 4 hours, hemoglobin is measured.  If participant s are stable, they continue to \\nmaintain bedrest with bathroom privileges to complete the period of observation.  \\n6. If participant  is deemed unstable by the biopsy operator, they are admitted to the observation \\nunit or inpatient service consistent with their condition and as assessed by the operating clinician , and care is provided as clinically appropriate.  \\n7. Stability is defined by appropriate clinical and laboratory metrics including vital signs, symptoms \\nsuch as flank pain, gross hematuria or other evidence  of post -biopsy bleeding such as abdominal \\ntenderness on the side of the biopsy. A fall  in hemoglobin  of more than 2 grams/dL or more \\nthan 1 gram/dL to less than 9 grams/dL requires extended ob servation , with follow -up \\nmeasurement of hemoglobin after an in terval of at least 2 hours. Additional observation, \\nincluding overnight observation  or hospital admission , will be done if clinically indicated.  \\na. Note that an Adverse Event should be reported for a hemoglobin drop of more than 1 \\ngram/dL.  \\n8. If hematuria, falling hematocrit, or local pain suggests a hematoma, the period of bed rest is \\nextended, and the hematoma size is monitored by serial ultrasonography of the kidney.   \\n9. If bleeding fails to stop or the circulation is compromised by the size o f the hemorrhage, a \\nsurgeon and an interventional radiologist (if necessary) are consulted regarding possible embolization of the bleeding vessel or surgical intervention.  \\n10. If admitted, participants must have a stable hemoglobin status and hemodynamics (les s than \\n1g/dL drop) prior to discharge.  \\n11. When participants are stable to go home, either after 6 hours of observation or after an \\ninpatient stay, they are instructed to avoid heavy physical activities for a week. Warfarin can be \\nresumed the evening of the bi opsy if no active bleeding. Aspirin and other anti- coagulation \\nmedications can be resumed 24 -48 hours after the procedure if no active bleeding.  \\n7.2. Procedure for Open Biopsy  \\n7.2.1.  Operator   \\nOpen surgical biopsies will be performed by the surgeon performing the pri mary open abdominal \\nsurgery.  Only surgeons who are privileged to perform open surgical procedures by the bylaws of the site \\nand are registered and approved by KPMP will perform the procedure. The site PI should verify the \\ncredentials of the operators at t hat site.  \\nAll KPMP -certified biopsy operators should  ', metadata={'page': 79, 'source': 'data-kpmp-oct-23/KPMP_Recruitment-Site-MOP.pdf'}), Document(page_content='Document ID: OPS00 1    updated: 06/02/2022     30  \\nVersion #: 09  \\n Hemorrhage  Nature of bleed, baseline Hgb, pre -\\ntransfusion Hgb, number of units of blood \\ntransfused, other interventions to control \\nbleeding  (e.g., surgery, interventional \\nradiology)  SAE, if requires transfusion, radiologic or \\nsurgical intervention  \\nArteriovenous fistulae  Hematuria, hypotension, high -output heart \\nfailure. Most clinically silent. Need U/S to \\ndiagnose.  SAE, if symptomatic. If incidentally found on \\nan ultrasound and not associated with clinical \\nmanifestations, hospitalization or \\nprolongation of hospitalization, it is a non -\\nserious AE  \\nPerinephric Hematoma  Transfusion support required (amount), \\nimaging, hospitalization, LOS, intervention \\nrequired, AKI, hypotension, Intensive Care \\nUnit, nephrectomy, death, nosocomial \\ncomplications, time to pain resolution, size of \\nhematoma  Usually an AE, but if it requires intervention \\n(pressor support or transfusion) or participant  \\nkept overnight instead of going home after 6 \\nhours, or if resulting in prolongation of \\nexisting hospitalization, it becomes an SAE.    \\nSubcapsular Hematoma  PRBCs, blood pressure, kidney function, \\nimaging, hospitalization, LOS, nosocomial \\ncomplications, time to pain resolution, size of \\nhematoma  Usually an AE, but if it requires intervention \\n(pressor support or transfusion) or participant  \\nkept overnight instead of going home after 6 \\nhours, or if resulting in prolongation of \\nexisting hospitalization, it becomes an SAE.    \\nHematuria  Clots, obstruction, bladder irrigation, \\ntransfusions, hospitalization, length of stay \\n(LOS), time to resolution  Usually an AE, but if it requires intervention \\n(pressor support or transfusion) or participant  \\nkept overnight instead of going home after 6 \\nhours, or if resulting in prolongation of \\nexisting hospitalization, it becomes an SAE.   \\nPain Intensity and follow up, medication required \\nto control pain  Usually a non -serious AE, unless resulting in \\nchange in plan of management with \\nunplanned hospitalization or prolongation of \\nhospitalization, in which case an SAE  \\n \\n7.2 Serious adverse events (SAE)     \\nA serious adverse event (SAE) will be defined as any undesirable experience meeting one \\nor more of the following criteria:  \\n1. Death: all deaths within 28 days from the time of kidney biopsy regardless of relatedness to study participation will be reported to the DSMB.  \\n2. New hospitalization: all new hospitalizations that occur that occur within 28 days from the time of kidney biopsy will be reported as SAEs.  \\n3. Prolonged hospitalization: if a KPMP kidney biopsy is done in a hospitalized \\nparticipant  and the hospitalization is prolonged due to an adverse event occurring ', metadata={'page': 29, 'source': 'data-kpmp-oct-23/KPMP_Clinical-Protocol.pdf'}), Document(page_content='Document ID: OPS002     5/10/2023     82 \\nVersion #: 16  4. The following circumstances prompt interventional radiology consultation for \\nangioembolization.  \\n• Volumetric enlargement of hematom a >25% from baseline measurement.  \\n• A drop in Hgb more than 2g/dL in a 24 -hour interval  attributable to bleeding from the biopsy \\nsite.  \\n• Any hemodynamic instability (SPB less than 90, or at the discretion of the primary surgical or critical care services ) con sidered to be due to bleeding from biopsy site.  \\n5. After IR angioembolization, all safety measures are repeated.  \\n7.3. QC Assessment of biopsy complication rates to suspend biopsies and trigger DSMB  \\nreview  \\nKPMP is closely monitoring the biopsy complication rates  at each recruitment site and study -wide. The \\nSAC and DSMB have set a priori  thresholds for rates; if exceeded, biopsies at the recruitment site will be \\npaused to enable review of the contributing factors. Biopsies will be resumed upon determination of \\nadequate safety precautions being followed by the site.  \\nTo assess these occurrences, more than 10 participants are needed for bleeding, nephrectomy and \\ndeath, or 20 for angiography. If less than 10 participants are enrolled  at the site, occurrence of any SAE  \\nin one participant will result in a temporary suspension of biopsies , pending review by the SAC .  \\nAfter an individual Recruitment Site  surpasses ten biopsies, the relevant biopsy complication rates  are: \\nFor CKD \\n• Occurrence of bleeding requiring transfusion in ≥ 5% of participants.  \\n• Occurrence of bleeding requiring angiographic intervention in ≥ 2.5% of participants.  \\n• Occurrence of bleeding requiring nephrectomy in any  participant .  \\n• Occurrence of death directly rel ated to biopsy in  any participant.  \\nAKI \\n• Occurrence of bleeding requiring transfusion in ≥ 10% of participants.  \\n• Occurrence of bleeding requiring angiographic intervention in ≥ 5% of participants.  \\n• Occurrence of bleeding requiring nephrectomy in any  particip ant.  \\n• Occurrence of death directly related to biopsy in any  participant.  \\nStudy -wide Recruitment Site  biopsy complication rates :  \\nCKD \\n• Occurrence of bleeding requiring transfusion in ≥ 7 % of participants.  \\n• Occurrence of bleeding requiring angiographic intervention in ≥ 3% of participants.  \\n• Occurrence of bleeding requiring nephrectomy in ≥ 2% of participants . \\n• Occurrence of death directly related to biopsy in ≥1 % of participants.  \\nAKI \\n• Occurrence of bleeding requiring transfusion in ≥ 10 % of participants.  ', metadata={'page': 81, 'source': 'data-kpmp-oct-23/KPMP_Recruitment-Site-MOP.pdf'}), Document(page_content=' \\nDocument ID: OPS002     5/10/2023     166 \\nVersion #: 16   \\nBleeding Risk Exclusion Criteria  Yes No Notes  \\nInternational Normalized Ratios (INR) \\ngreater than 1.4     \\nPlatelet count less than 100,000/ uL     \\nHemoglobin less than 9 g/dL     \\nChronic anticoagulation     \\nInability to withdraw aspirin, clopidogrel, \\ncilostazol, or similar anti- platelet agents for \\nat least 7 days prior to biopsy (unless \\nbleeding time is normal before open surgical biopsy); clinical judgement will be \\nused in the case of nonsteroidal anti -\\ninflammatory drugs (NSAID) exposure \\noccurring les s than 7 days before \\npercutaneous biopsy.     \\n \\nOpen AKI Inclusion Criteria  Yes No Notes  \\nBaseline estimated glomerular filtration rate \\ngreater than 45 mL/min/1.73m2 defined as  \\nthe median of the last three outpatient \\nserum creatinine measurements from day 7  \\nto 365 prior to enrollment.  \\nOR  \\nIf there are no sCr values available for 7 to \\n365 days prior to enrollment, the patient \\ncan be enrolled with an estimated baseline \\n(as defined in the  Recruitment Site  MOP, but \\nonly if there is no past medical history of \\nchronic kidney disease     \\nAND one of the following:  \\n1. A repeat serum creatinine within no less \\nthan 6 and no more than 48 hours of initial serum creatinine that is still greater than or \\nequal to 1.5 times the Baseline \\nOR    ', metadata={'page': 165, 'source': 'data-kpmp-oct-23/KPMP_Recruitment-Site-MOP.pdf'})]\n"
     ]
    },
    {
     "data": {
      "text/plain": "4"
     },
     "execution_count": 63,
     "metadata": {},
     "output_type": "execute_result"
    }
   ],
   "source": [
    "embedding = OpenAIEmbeddings(openai_api_key=getOpenAIKey())\n",
    "readdb = Chroma(persist_directory='./db-kpmp-oct-23', embedding_function=embedding)\n",
    "res = readdb.similarity_search(\"hemoglobin drop\")\n",
    "print(res)\n",
    "len(res)"
   ],
   "metadata": {
    "collapsed": false,
    "ExecuteTime": {
     "end_time": "2023-10-25T13:35:20.189302Z",
     "start_time": "2023-10-25T13:35:19.796222Z"
    }
   },
   "id": "9cba0a521a50efab"
  },
  {
   "cell_type": "code",
   "execution_count": null,
   "outputs": [],
   "source": [],
   "metadata": {
    "collapsed": false
   },
   "id": "b665dfb52c26dc34"
  }
 ],
 "metadata": {
  "kernelspec": {
   "display_name": "Python 3",
   "language": "python",
   "name": "python3"
  },
  "language_info": {
   "codemirror_mode": {
    "name": "ipython",
    "version": 2
   },
   "file_extension": ".py",
   "mimetype": "text/x-python",
   "name": "python",
   "nbconvert_exporter": "python",
   "pygments_lexer": "ipython2",
   "version": "2.7.6"
  }
 },
 "nbformat": 4,
 "nbformat_minor": 5
}
