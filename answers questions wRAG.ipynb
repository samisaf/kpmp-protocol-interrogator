{
 "cells": [
  {
   "cell_type": "markdown",
   "source": [
    "# Generating Questions using ChatGPT4 and retrieval augmented generation to embed new knowledge into the language model"
   ],
   "metadata": {
    "collapsed": false
   },
   "id": "89435ff2226205dd"
  },
  {
   "cell_type": "code",
   "execution_count": 1,
   "id": "b2777b29abc52e7a",
   "metadata": {
    "collapsed": false,
    "ExecuteTime": {
     "end_time": "2023-10-30T01:30:48.073590Z",
     "start_time": "2023-10-30T01:30:42.870204Z"
    }
   },
   "outputs": [],
   "source": [
    "from langchain.prompts import ChatPromptTemplate\n",
    "from dotenv import dotenv_values\n",
    "from langchain.chat_models import ChatOpenAI\n",
    "from langchain.vectorstores import Chroma\n",
    "from langchain.embeddings import OpenAIEmbeddings\n",
    "from langchain.chains import RetrievalQA"
   ]
  },
  {
   "cell_type": "markdown",
   "source": [
    "## Creating a prompt and loading Embedded Data\n",
    "Now, we load the data that was previously retried and embedded into a vector database"
   ],
   "metadata": {
    "collapsed": false
   },
   "id": "536adec855c11f88"
  },
  {
   "cell_type": "code",
   "execution_count": 14,
   "outputs": [],
   "source": [
    "assistant = \"\"\"\n",
    "You are an autoregressive language model that has been fine-tuned with instruction-tuning and RLHF. You are helping to answer questions based on provided information.\n",
    "\"\"\"\n",
    "\n",
    "prompt = ChatPromptTemplate.from_messages(\n",
    "    [\n",
    "        (\"system\", assistant),\n",
    "        (\"human\",\n",
    "         \"Use the information provided to answer the following question: {question}\")\n",
    "    ]\n",
    ")"
   ],
   "metadata": {
    "collapsed": false,
    "ExecuteTime": {
     "end_time": "2023-10-30T01:35:03.181121Z",
     "start_time": "2023-10-30T01:35:03.175721Z"
    }
   },
   "id": "f8cc01f0697a6622"
  },
  {
   "cell_type": "code",
   "execution_count": 15,
   "outputs": [],
   "source": [
    "def get_openai_key(path=\"\"):\n",
    "    \"\"\"Gets OpenAI API key from .env file\"\"\"\n",
    "    paths = [\"/Users/samisaf/openai.env\", \"C:/Users/samis/openai.env\", \"C:/Users/samisaf/openai.env\"]\n",
    "    if len(path) > 0:\n",
    "        return dotenv_values(path)['OPENAI_API_KEY']\n",
    "    else:\n",
    "        for p in paths:\n",
    "            if len(dotenv_values(p)) > 0:\n",
    "                return dotenv_values(p)['OPENAI_API_KEY']\n",
    "    return None"
   ],
   "metadata": {
    "collapsed": false,
    "ExecuteTime": {
     "end_time": "2023-10-30T01:35:03.827864Z",
     "start_time": "2023-10-30T01:35:03.825605Z"
    }
   },
   "id": "c3c6f7c1e869cd82"
  },
  {
   "cell_type": "code",
   "execution_count": 16,
   "outputs": [],
   "source": [
    "openai_api_key = get_openai_key()\n",
    "model=\"gpt-3.5-turbo\"\n",
    "temperature=0\n",
    "max_tokens=1000\n",
    "\n",
    "embedding =OpenAIEmbeddings(openai_api_key=openai_api_key)\n",
    "db = Chroma(persist_directory='./db-kpmp-oct-23', embedding_function=embedding)\n",
    "llm = ChatOpenAI(openai_api_key=openai_api_key, model=model, temperature=0, max_tokens=max_tokens)\n",
    "qa = RetrievalQA.from_chain_type(llm=llm, chain_type=\"stuff\", retriever=db.as_retriever(), return_source_documents=True)"
   ],
   "metadata": {
    "collapsed": false,
    "ExecuteTime": {
     "end_time": "2023-10-30T01:35:04.457219Z",
     "start_time": "2023-10-30T01:35:04.443868Z"
    }
   },
   "id": "3732e6b27854605d"
  },
  {
   "cell_type": "markdown",
   "id": "4ec93822df9e1170",
   "metadata": {},
   "source": [
    "## Answering Questions with ChatGPT 3.5\n",
    "Now, we used the prompts created in the previous step to generate the questions using ChatGPT 4"
   ]
  },
  {
   "cell_type": "code",
   "execution_count": 17,
   "id": "f28a12f4e59cb701",
   "metadata": {
    "collapsed": false,
    "ExecuteTime": {
     "end_time": "2023-10-30T01:35:14.595909Z",
     "start_time": "2023-10-30T01:35:06.414745Z"
    }
   },
   "outputs": [
    {
     "data": {
      "text/plain": "'The patient needs to be observed if there is a fall in hemoglobin of more than 2 grams/dL or more than 1 gram/dL to less than 9 grams/dL after the biopsy. In such cases, extended observation is required, with follow-up measurement of hemoglobin after an interval of at least 2 hours. Additional observation, including overnight observation or hospital admission, will be done if clinically indicated.'"
     },
     "execution_count": 17,
     "metadata": {},
     "output_type": "execute_result"
    }
   ],
   "source": [
    "# Be careful running this line as it sends all prompts to open ai (takes time and consumes money)\n",
    "question1 = \"At what hemoglobin drop after the biopsy does the patient need to be observed?\"\n",
    "result1 = qa(prompt.format(question=question1))\n",
    "result1['result']\n"
   ]
  },
  {
   "cell_type": "code",
   "execution_count": 18,
   "outputs": [
    {
     "data": {
      "text/plain": "[Document(page_content='7.2.3. Post-Operative Monitoring\\n\\nHemoglobin concentration is serially measured for all participants at 4 hours and 8 hours post biopsy and then daily. A fall in hemoglobin of >2 grams/dL - OR - >1 gram/dL to less than 9 grams/dL requires a repeat measurement if attributable to bleeding from the biopsy site\\n\\nIn the event that significant bleeding (>2g/L drop in Hgb from baseline concentration) is identified, an ultrasound or non-contrast CT is obtained emergently, with the choice of imaging procedure at the discretion of the primary surgical service or critical care services.\\n\\nIf imaging shows perinephric fluid consistent with a hematoma, the biopsied kidney is further investigated with a repeat imaging within 12-24 hours. Hemoglobin concentrations are serially measured every six hours until stable.\\n\\nThe following circumstances prompt interventional radiology consultation for angioembolization.\\n\\nVolumetric enlargement of hematoma >25% from baseline measurement.\\n\\nA drop in Hgb more than 2g/dL in a 24-hour interval attributable to bleeding from the biopsy site.', metadata={'source': 'data-kpmp-oct-23/Recruitment-Site-MOP.md'}),\n Document(page_content='If participant is deemed unstable by the biopsy operator, they are admitted to the observation unit or inpatient service consistent with their condition and as assessed by the operating clinician, and care is provided as clinically appropriate.\\n\\nStability is defined by appropriate clinical and laboratory metrics including vital signs, symptoms such as flank pain, gross hematuria or other evidence of post-biopsy bleeding such as abdominal tenderness on the side of the biopsy. A fall in hemoglobin of more than 2 grams/dL or more than 1 gram/dL to less than 9 grams/dL requires extended observation, with follow-up measurement of hemoglobin after an interval of at least 2 hours. Additional observation, including overnight observation or hospital admission, will be done if clinically indicated.\\na. Note that an Adverse Event should be reported for a hemoglobin drop of more than 1 gram/dL.\\n\\nIf hematuria, falling hematocrit, or local pain suggests a hematoma, the period of bed rest is extended, and the hematoma size is monitored by serial ultrasonography of the kidney.', metadata={'source': 'data-kpmp-oct-23/Recruitment-Site-MOP.md'}),\n Document(page_content='If bleeding fails to stop or the circulation is compromised by the size of the hemorrhage, a surgeon and an interventional radiologist (if necessary) are consulted regarding possible embolization of the bleeding vessel or surgical intervention.\\n\\nIf admitted, participants must have a stable hemoglobin status and hemodynamics (less than 1g/dL drop) prior to discharge.\\n\\nWhen participants are stable to go home, either after 6 hours of observation or after an inpatient stay, they are instructed to avoid heavy physical activities for a week. Warfarin can be resumed the evening of the biopsy if no active bleeding. Aspirin and other anti-coagulation medications can be resumed 24-48 hours after the procedure if no active bleeding.\\n\\n7.2. Procedure for Open Biopsy\\n\\n7.2.1. Operator\\n\\nOpen surgical biopsies will be performed by the surgeon performing the primary open abdominal surgery. Only surgeons who are privileged to perform open surgical procedures by the bylaws of the site and are registered and approved by KPMP will perform the procedure. The site PI should verify the credentials of the operators at that site.', metadata={'source': 'data-kpmp-oct-23/Recruitment-Site-MOP.md'}),\n Document(page_content='A study goal is that three biopsy cores of kidney parenchyma will be obtained with a maximum of five passes and processed as detailed below. Hemostasis will be ensured and participants will be observed with frequent monitoring of blood pressure and heart rate. Participants will be monitored for post-procedural gross hematuria while in the hospital setting for up to 48 hours, and nursing will be available continuously with on-call physicians available. dDAVP may be administered at the discretion of the biopsy operator when judged to be useful to reduce bleeding risk. A standard workflow for post-operative monitoring is further described in the Recruitment Site MOP. Ambulatory participants will be instructed to refrain from lifting anything heavier than 10 pounds for 48 hours post-procedure, no vigorous activity for 1 week, after which time they may resume usual activities. In addition, contact information with 24-hour coverage for study coordinator and study PI’s will be provided for questions or problems post-procedure. For ambulatory participants, a follow-up phone call will be made in the morning post-procedure to answer any questions or concerns, and to verify no immediate complications. Once available, clinical biopsy results will be communicated to the participant’s referring physician, who will then communicate the results to the participant. If necessary, the KPMP site team can facilitate referral to a nephrologist but will not themselves provide care to study participants. A copy of the final biopsy report will be included in the participant’s medical record.', metadata={'source': 'data-kpmp-oct-23/Clinical-Protocol.md'})]"
     },
     "execution_count": 18,
     "metadata": {},
     "output_type": "execute_result"
    }
   ],
   "source": [
    "result1['source_documents']"
   ],
   "metadata": {
    "collapsed": false,
    "ExecuteTime": {
     "end_time": "2023-10-30T01:35:17.877709Z",
     "start_time": "2023-10-30T01:35:17.873851Z"
    }
   },
   "id": "2e04d5af529f72b1"
  },
  {
   "cell_type": "code",
   "execution_count": 19,
   "outputs": [
    {
     "data": {
      "text/plain": "'Based on the information provided, the specific inclusion criteria for participants in the study are not mentioned. However, it is stated that eligibility assessment is conducted, and lab tests may be needed to confirm eligibility prior to enrollment. The New Participant CRF is used to document pre-screening eligibility information, and participants who meet the inclusion criteria are added to REDCap. For AKI, potential participants are added to REDCap if they meet inclusion criteria, and for CKD, potential participants are added if they meet inclusion/exclusion criteria and are considered by the site investigator. Unfortunately, the exact inclusion criteria are not provided in the given context.'"
     },
     "execution_count": 19,
     "metadata": {},
     "output_type": "execute_result"
    }
   ],
   "source": [
    "question2 = \"What are the inclusion criteria?\"\n",
    "result2 = qa(prompt.format(question=question2))\n",
    "result2['result']"
   ],
   "metadata": {
    "collapsed": false,
    "ExecuteTime": {
     "end_time": "2023-10-30T01:35:31.070024Z",
     "start_time": "2023-10-30T01:35:19.939862Z"
    }
   },
   "id": "516f2d7b81528e57"
  },
  {
   "cell_type": "code",
   "execution_count": 21,
   "outputs": [
    {
     "data": {
      "text/plain": "'Based on the information provided, there are two criteria for enrolling a patient with CKD:\\n\\n1. Elevated serum creatinine: The patient can be enrolled if their serum creatinine is greater than or equal to 1.5 times the baseline value. This can be determined by either a repeat serum creatinine within 6 to 48 hours of the initial measurement that is still greater than or equal to 1.5 times the baseline, or by positive kidney injury urine biomarkers measured at the recruitment site, or by urine microscopy suggestive of acute tubular necrosis.\\n\\n2. High risk for acute kidney injury: The patient can also be enrolled if they meet two or more criteria for high risk of acute kidney injury. This can be determined by positive kidney injury urine biomarkers, such as NGAL level greater than or equal to 150 ng/mL, KIM1 level greater than or equal to 2.8 ng/mL, or TIMP2 x IGFBP7 greater than or equal to 2.0.\\n\\nPlease note that these criteria are based on the provided information and may be subject to specific values outlined in the Recruitment Site MOP (Manual of Procedures).'"
     },
     "execution_count": 21,
     "metadata": {},
     "output_type": "execute_result"
    }
   ],
   "source": [
    "qa(prompt.format(question=\"what is the creatinine threshold to enroll patient with CKD?\"))['result']"
   ],
   "metadata": {
    "collapsed": false,
    "ExecuteTime": {
     "end_time": "2023-10-30T01:45:52.144326Z",
     "start_time": "2023-10-30T01:45:33.788348Z"
    }
   },
   "id": "39b6a37409a583e5"
  },
  {
   "cell_type": "code",
   "execution_count": null,
   "outputs": [],
   "source": [],
   "metadata": {
    "collapsed": false
   },
   "id": "3591c5150892f056"
  }
 ],
 "metadata": {
  "kernelspec": {
   "display_name": "Python 3 (ipykernel)",
   "language": "python",
   "name": "python3"
  },
  "language_info": {
   "codemirror_mode": {
    "name": "ipython",
    "version": 3
   },
   "file_extension": ".py",
   "mimetype": "text/x-python",
   "name": "python",
   "nbconvert_exporter": "python",
   "pygments_lexer": "ipython3",
   "version": "3.10.9"
  }
 },
 "nbformat": 4,
 "nbformat_minor": 5
}
