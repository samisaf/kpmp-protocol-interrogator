{
 "cells": [
  {
   "cell_type": "markdown",
   "source": [
    "# loading and embedding additional knowledge into a vectorstore"
   ],
   "metadata": {
    "collapsed": false
   },
   "id": "615896985bcf0c96"
  },
  {
   "cell_type": "code",
   "execution_count": 1,
   "outputs": [],
   "source": [
    "# import needed libraries\n",
    "from dotenv import dotenv_values\n",
    "from langchain.document_loaders import DirectoryLoader, PyPDFDirectoryLoader, UnstructuredFileLoader, UnstructuredMarkdownLoader\n",
    "from langchain.text_splitter import CharacterTextSplitter\n",
    "from langchain.embeddings import OpenAIEmbeddings\n",
    "from langchain.vectorstores import Chroma"
   ],
   "metadata": {
    "collapsed": false,
    "ExecuteTime": {
     "end_time": "2023-10-30T01:29:21.346848Z",
     "start_time": "2023-10-30T01:29:12.961534Z"
    }
   },
   "id": "dfdda2216f8a1515"
  },
  {
   "cell_type": "code",
   "execution_count": 6,
   "outputs": [],
   "source": [
    "def getOpenAIKey(path=\"\"):\n",
    "    \"\"\"Gets OpenAI API key from .env file\"\"\"\n",
    "    paths = [\"/Users/samisaf/openai.env\", \"C:/Users/samis/openai.env\", \"C:/Users/samisaf/openai.env\"]\n",
    "    if len(path) > 0:\n",
    "        return dotenv_values(path)['OPENAI_API_KEY']\n",
    "    else:\n",
    "        for p in paths:\n",
    "            if len(dotenv_values(p)) > 0:\n",
    "                return dotenv_values(p)['OPENAI_API_KEY']\n",
    "    return None"
   ],
   "metadata": {
    "collapsed": false,
    "ExecuteTime": {
     "end_time": "2023-10-30T01:30:12.267897Z",
     "start_time": "2023-10-30T01:30:12.263627Z"
    }
   },
   "id": "c38b09af72cec5da"
  },
  {
   "cell_type": "code",
   "execution_count": 2,
   "outputs": [],
   "source": [
    "def loadDirectorySplitDocs(path: str, chunk_size=250, chunk_overlap=25, loader_cls=UnstructuredFileLoader):\n",
    "    \"\"\"Loads files in a directory, then splits them\"\"\"\n",
    "    documents = DirectoryLoader(path=path, loader_cls=loader_cls).load()\n",
    "    text_splitter = CharacterTextSplitter.from_tiktoken_encoder(chunk_size=chunk_size, chunk_overlap=chunk_overlap)\n",
    "    splitDocs = text_splitter.split_documents(documents)\n",
    "    print(f\"loaded {path}. Got {len(documents)} documents. Splitted into {len(splitDocs)} parts.\")\n",
    "    return splitDocs"
   ],
   "metadata": {
    "collapsed": false,
    "ExecuteTime": {
     "end_time": "2023-10-30T01:29:21.354087Z",
     "start_time": "2023-10-30T01:29:21.345410Z"
    }
   },
   "id": "a2fc87617f22a604"
  },
  {
   "cell_type": "code",
   "execution_count": 4,
   "outputs": [
    {
     "name": "stderr",
     "output_type": "stream",
     "text": [
      "Created a chunk of size 288, which is longer than the specified 250\n",
      "Created a chunk of size 331, which is longer than the specified 250\n",
      "Created a chunk of size 338, which is longer than the specified 250\n",
      "Created a chunk of size 344, which is longer than the specified 250\n",
      "Created a chunk of size 309, which is longer than the specified 250\n",
      "Created a chunk of size 300, which is longer than the specified 250\n",
      "Created a chunk of size 398, which is longer than the specified 250\n",
      "Created a chunk of size 359, which is longer than the specified 250\n",
      "Created a chunk of size 303, which is longer than the specified 250\n",
      "Created a chunk of size 418, which is longer than the specified 250\n",
      "Created a chunk of size 660, which is longer than the specified 250\n",
      "Created a chunk of size 392, which is longer than the specified 250\n",
      "Created a chunk of size 265, which is longer than the specified 250\n",
      "Created a chunk of size 300, which is longer than the specified 250\n",
      "Created a chunk of size 700, which is longer than the specified 250\n",
      "Created a chunk of size 573, which is longer than the specified 250\n",
      "Created a chunk of size 275, which is longer than the specified 250\n",
      "Created a chunk of size 946, which is longer than the specified 250\n",
      "Created a chunk of size 402, which is longer than the specified 250\n",
      "Created a chunk of size 1207, which is longer than the specified 250\n",
      "Created a chunk of size 663, which is longer than the specified 250\n",
      "Created a chunk of size 1660, which is longer than the specified 250\n",
      "Created a chunk of size 325, which is longer than the specified 250\n",
      "Created a chunk of size 1107, which is longer than the specified 250\n",
      "Created a chunk of size 263, which is longer than the specified 250\n",
      "Created a chunk of size 348, which is longer than the specified 250\n",
      "Created a chunk of size 439, which is longer than the specified 250\n",
      "Created a chunk of size 517, which is longer than the specified 250\n",
      "Created a chunk of size 384, which is longer than the specified 250\n",
      "Created a chunk of size 296, which is longer than the specified 250\n",
      "Created a chunk of size 340, which is longer than the specified 250\n",
      "Created a chunk of size 297, which is longer than the specified 250\n",
      "Created a chunk of size 318, which is longer than the specified 250\n",
      "Created a chunk of size 386, which is longer than the specified 250\n",
      "Created a chunk of size 256, which is longer than the specified 250\n",
      "Created a chunk of size 302, which is longer than the specified 250\n",
      "Created a chunk of size 342, which is longer than the specified 250\n",
      "Created a chunk of size 933, which is longer than the specified 250\n",
      "Created a chunk of size 301, which is longer than the specified 250\n",
      "Created a chunk of size 258, which is longer than the specified 250\n",
      "Created a chunk of size 291, which is longer than the specified 250\n"
     ]
    },
    {
     "name": "stdout",
     "output_type": "stream",
     "text": [
      "loaded ./data-kpmp-oct-23. Got 2 documents. Splitted into 397 parts.\n"
     ]
    },
    {
     "data": {
      "text/plain": "397"
     },
     "execution_count": 4,
     "metadata": {},
     "output_type": "execute_result"
    }
   ],
   "source": [
    "# load the PDF documents and then split them\n",
    "path = './data-kpmp-oct-23'\n",
    "docs = loadDirectorySplitDocs(path=path, loader_cls=UnstructuredMarkdownLoader)\n",
    "len(docs)"
   ],
   "metadata": {
    "collapsed": false,
    "ExecuteTime": {
     "end_time": "2023-10-30T01:30:04.254014Z",
     "start_time": "2023-10-30T01:30:03.580946Z"
    }
   },
   "id": "f5c416bb9c98e3ce"
  },
  {
   "cell_type": "code",
   "execution_count": 7,
   "outputs": [
    {
     "name": "stdout",
     "output_type": "stream",
     "text": [
      "created database at ./db-kpmp-oct-23\n"
     ]
    }
   ],
   "source": [
    "# create vector dataset \n",
    "# then embed the data into a vector store\n",
    "# last store it locally through chromadb\n",
    "dbpath = \"./db-kpmp-oct-23\"\n",
    "embedding = OpenAIEmbeddings(openai_api_key=getOpenAIKey())\n",
    "db = Chroma.from_documents(docs, embedding, persist_directory=dbpath)\n",
    "db.persist()\n",
    "print(f\"created database at {dbpath}\")"
   ],
   "metadata": {
    "collapsed": false,
    "ExecuteTime": {
     "end_time": "2023-10-30T01:30:22.933741Z",
     "start_time": "2023-10-30T01:30:17.881831Z"
    }
   },
   "id": "4a37274bc9d8b079"
  },
  {
   "cell_type": "markdown",
   "source": [
    "# loading vector store, and performing similarity search"
   ],
   "metadata": {
    "collapsed": false
   },
   "id": "9b999988fa350259"
  },
  {
   "cell_type": "code",
   "execution_count": 8,
   "outputs": [
    {
     "name": "stdout",
     "output_type": "stream",
     "text": [
      "[Document(page_content='If participant is deemed unstable by the biopsy operator, they are admitted to the observation unit or inpatient service consistent with their condition and as assessed by the operating clinician, and care is provided as clinically appropriate.\\n\\nStability is defined by appropriate clinical and laboratory metrics including vital signs, symptoms such as flank pain, gross hematuria or other evidence of post-biopsy bleeding such as abdominal tenderness on the side of the biopsy. A fall in hemoglobin of more than 2 grams/dL or more than 1 gram/dL to less than 9 grams/dL requires extended observation, with follow-up measurement of hemoglobin after an interval of at least 2 hours. Additional observation, including overnight observation or hospital admission, will be done if clinically indicated.\\na. Note that an Adverse Event should be reported for a hemoglobin drop of more than 1 gram/dL.\\n\\nIf hematuria, falling hematocrit, or local pain suggests a hematoma, the period of bed rest is extended, and the hematoma size is monitored by serial ultrasonography of the kidney.', metadata={'source': 'data-kpmp-oct-23/Recruitment-Site-MOP.md'}), Document(page_content='7.2.3. Post-Operative Monitoring\\n\\nHemoglobin concentration is serially measured for all participants at 4 hours and 8 hours post biopsy and then daily. A fall in hemoglobin of >2 grams/dL - OR - >1 gram/dL to less than 9 grams/dL requires a repeat measurement if attributable to bleeding from the biopsy site\\n\\nIn the event that significant bleeding (>2g/L drop in Hgb from baseline concentration) is identified, an ultrasound or non-contrast CT is obtained emergently, with the choice of imaging procedure at the discretion of the primary surgical service or critical care services.\\n\\nIf imaging shows perinephric fluid consistent with a hematoma, the biopsied kidney is further investigated with a repeat imaging within 12-24 hours. Hemoglobin concentrations are serially measured every six hours until stable.\\n\\nThe following circumstances prompt interventional radiology consultation for angioembolization.\\n\\nVolumetric enlargement of hematoma >25% from baseline measurement.\\n\\nA drop in Hgb more than 2g/dL in a 24-hour interval attributable to bleeding from the biopsy site.', metadata={'source': 'data-kpmp-oct-23/Recruitment-Site-MOP.md'}), Document(page_content='General Complications:\\nMacroscopic Hematuria 3.5 (2.2-5.1)\\nBlood Transfusion 0.9 (0.4-4.1))\\nHematoma 11.6 (7.0-18.4)\\nAngiographic Intervention 0.6 (0.4-0.8)\\nUrinary Tract Obstruction 0.3 Unilateral Nephrectomy 0.01 Death 0.08-0.1%\\nTransfusion rates for:\\n14 vs 16 gauge needle 2.1 (0.9-3.8) vs 0.4 (0.0-1.4)\\n14 vs 18 gauge needle 2.1 (0.9-3.8) vs 0.6 (0.1-1.5)\\nSeries with > 10% AKI vs < 10% AKI 1.1 (0.6-1.8) vs 0.04 (0-0.3)\\nTransfusion rates for:\\nSerum Creatinine ≥2 vs <2 2.1 (0.9-3.8) vs 0.4 (0.0-1.3)\\nHemoglobin <12 vs ≥12 2.6 (1.4-4.0) vs 0.5 (0.1-1.1)\\n*Given as percentage; values in parentheses, when shown, are 95% confidence limits', metadata={'source': 'data-kpmp-oct-23/Clinical-Protocol.md'}), Document(page_content='Hemoglobin A1C greater than or equal to 6.5%, confirmed with a repeat test within the past year\\n\\nFasting blood sugar greater than or equal to 126 mg/dL, confirmed with a repeat test within the past year\\n\\nUse of glucose-lowering therapy (insulin or oral or other subcutaneous agents) Must be present on at least two assessments (including the most recent) at least 3 months apart. Most recent measure must be within the past year, first (older) assessment must be within the past 3 year.\\nAND Must be present at least once (most recent available measurement):\\nEstimated glomerular filtration rate 30-59 mL/min/1.73m2 AND --Urine albumin excretion greater than or equal to 30 mg/g (or mg/day creatinine) -or-Urine protein excretion greater than or equal to\\n\\nBP greater than 140/90 mmHg measured on three occasions over at least 1 month\\n\\nTaking antihypertensive medication for blood pressure (BP) control', metadata={'source': 'data-kpmp-oct-23/Recruitment-Site-MOP.md'})]\n"
     ]
    },
    {
     "data": {
      "text/plain": "4"
     },
     "execution_count": 8,
     "metadata": {},
     "output_type": "execute_result"
    }
   ],
   "source": [
    "embedding = OpenAIEmbeddings(openai_api_key=getOpenAIKey())\n",
    "readdb = Chroma(persist_directory='./db-kpmp-oct-23', embedding_function=embedding)\n",
    "res = readdb.similarity_search(\"hemoglobin drop\")\n",
    "print(res)\n",
    "len(res)"
   ],
   "metadata": {
    "collapsed": false,
    "ExecuteTime": {
     "end_time": "2023-10-30T01:30:25.470096Z",
     "start_time": "2023-10-30T01:30:25.090127Z"
    }
   },
   "id": "9cba0a521a50efab"
  },
  {
   "cell_type": "code",
   "execution_count": null,
   "outputs": [],
   "source": [],
   "metadata": {
    "collapsed": false
   },
   "id": "b665dfb52c26dc34"
  }
 ],
 "metadata": {
  "kernelspec": {
   "display_name": "Python 3",
   "language": "python",
   "name": "python3"
  },
  "language_info": {
   "codemirror_mode": {
    "name": "ipython",
    "version": 2
   },
   "file_extension": ".py",
   "mimetype": "text/x-python",
   "name": "python",
   "nbconvert_exporter": "python",
   "pygments_lexer": "ipython2",
   "version": "2.7.6"
  }
 },
 "nbformat": 4,
 "nbformat_minor": 5
}
