{
 "cells": [
  {
   "cell_type": "markdown",
   "source": [
    "# Generating Questions using ChatGPT4 and retrieval augmented generation to embed new knowledge into the language model"
   ],
   "metadata": {
    "collapsed": false
   },
   "id": "89435ff2226205dd"
  },
  {
   "cell_type": "code",
   "execution_count": 16,
   "id": "b2777b29abc52e7a",
   "metadata": {
    "collapsed": false,
    "ExecuteTime": {
     "end_time": "2023-10-25T13:15:19.980484Z",
     "start_time": "2023-10-25T13:15:19.978734Z"
    }
   },
   "outputs": [],
   "source": [
    "from langchain.prompts import ChatPromptTemplate\n",
    "from dotenv import dotenv_values\n",
    "from langchain.chat_models import ChatOpenAI\n",
    "from langchain.vectorstores import Chroma\n",
    "from langchain.embeddings import OpenAIEmbeddings\n",
    "from langchain.chains import RetrievalQA"
   ]
  },
  {
   "cell_type": "markdown",
   "source": [
    "## Creating a prompt and loading Embedded Data\n",
    "Now, we load the data that was previously retried and embedded into a vector database"
   ],
   "metadata": {
    "collapsed": false
   },
   "id": "536adec855c11f88"
  },
  {
   "cell_type": "code",
   "execution_count": 41,
   "outputs": [],
   "source": [
    "assistant = \"\"\"\n",
    "You are an autoregressive language model that has been fine-tuned with instruction-tuning and RLHF. You are helping to answer questions based on provided information. This information is pertinent to the Kidney Precision Medicine Project (KPMP).\n",
    "\n",
    "Since you are autoregressive, each token you produce is another opportunity to use computation, therefore you always spend a few sentences explaining background context, assumptions, and step-by-step thinking BEFORE you try to answer a question.\n",
    "\"\"\"\n",
    "\n",
    "prompt = ChatPromptTemplate.from_messages(\n",
    "    [\n",
    "        (\"system\", assistant),\n",
    "        (\"human\",\n",
    "         \"Use the information provided to answer the following question: {question}\")\n",
    "    ]\n",
    ")"
   ],
   "metadata": {
    "collapsed": false,
    "ExecuteTime": {
     "end_time": "2023-10-25T13:29:15.578775Z",
     "start_time": "2023-10-25T13:29:15.577380Z"
    }
   },
   "id": "f8cc01f0697a6622"
  },
  {
   "cell_type": "code",
   "execution_count": 42,
   "outputs": [],
   "source": [
    "def get_openai_key(path=\"\"):\n",
    "    \"\"\"Gets OpenAI API key from .env file\"\"\"\n",
    "    paths = [\"/Users/samisaf/openai.env\", \"C:/Users/samis/openai.env\", \"C:/Users/samisaf/openai.env\"]\n",
    "    if len(path) > 0:\n",
    "        return dotenv_values(path)['OPENAI_API_KEY']\n",
    "    else:\n",
    "        for p in paths:\n",
    "            if len(dotenv_values(p)) > 0:\n",
    "                return dotenv_values(p)['OPENAI_API_KEY']\n",
    "    return None"
   ],
   "metadata": {
    "collapsed": false,
    "ExecuteTime": {
     "end_time": "2023-10-25T13:29:16.165398Z",
     "start_time": "2023-10-25T13:29:16.160746Z"
    }
   },
   "id": "c3c6f7c1e869cd82"
  },
  {
   "cell_type": "code",
   "execution_count": 57,
   "outputs": [],
   "source": [
    "openai_api_key = get_openai_key()\n",
    "model=\"gpt-3.5-turbo\"\n",
    "temperature=0\n",
    "max_tokens=1000\n",
    "\n",
    "embedding =OpenAIEmbeddings(openai_api_key=openai_api_key)\n",
    "db = Chroma(persist_directory='./db-kpmp-oct-23', embedding_function=embedding)\n",
    "llm = ChatOpenAI(openai_api_key=openai_api_key, model=model, temperature=0, max_tokens=max_tokens)\n",
    "qa = RetrievalQA.from_chain_type(llm=llm, chain_type=\"stuff\", retriever=db.as_retriever(), return_source_documents=True)"
   ],
   "metadata": {
    "collapsed": false,
    "ExecuteTime": {
     "end_time": "2023-10-25T13:35:36.496793Z",
     "start_time": "2023-10-25T13:35:36.471268Z"
    }
   },
   "id": "3732e6b27854605d"
  },
  {
   "cell_type": "markdown",
   "id": "4ec93822df9e1170",
   "metadata": {},
   "source": [
    "## Answering Questions with ChatGPT 3.5\n",
    "Now, we used the prompts created in the previous step to generate the questions using ChatGPT 4"
   ]
  },
  {
   "cell_type": "code",
   "execution_count": 59,
   "id": "f28a12f4e59cb701",
   "metadata": {
    "collapsed": false,
    "ExecuteTime": {
     "end_time": "2023-10-25T13:36:02.170513Z",
     "start_time": "2023-10-25T13:35:53.036628Z"
    }
   },
   "outputs": [
    {
     "data": {
      "text/plain": "'Based on the information provided, there is no specific mention of the hemoglobin fall that would require hospitalization for a patient in the context of the Kidney Precision Medicine Project (KPMP). The information primarily focuses on the goals, design, and procedures of the study, as well as the eligibility criteria for participants with AKI or CKD. It does not provide specific details about hemoglobin levels or hospitalization criteria related to hemoglobin fall. Therefore, I cannot provide a specific answer to your question based on the given information.'"
     },
     "execution_count": 59,
     "metadata": {},
     "output_type": "execute_result"
    }
   ],
   "source": [
    "# Be careful running this line as it sends all prompts to open ai (takes time and consumes money)\n",
    "question1 = \"At what hemoglobin fall does the patient need to be hospitalized?\"\n",
    "result1 = qa(prompt.format(question=question1))\n",
    "result1['result']\n"
   ]
  },
  {
   "cell_type": "code",
   "execution_count": 56,
   "outputs": [
    {
     "data": {
      "text/plain": "[Document(page_content='FOR IRB USE ONLY  \\nIRB ID #: 201902013 \\nAPPROVAL DATE: 09/18/23  \\nRELEASED DATE: 09/18/23  \\nEXPIRATION DATE: 11/22/23  \\n \\n4 \\nKPMP Doc ID: OPS006 v11  last updated 09.01.2023  • We will ask you about your health including asking you to \\ncomplete a PROM IS Global Health Questionnaire and a \\nPersonal History Questionnaire  \\n• We will ask you about your understanding of your health using \\na questionnaire called a Health Literacy questionnaire . \\n• We will ask you about how you are feeling.  \\n• We will ask you about parts of your life like your job. \\n• After your biopsy,  we will ask you about how you feel about it .  \\nc. We will measure your height and weight.  \\nd. We will measure your blood pressure and temperature.  \\ne. We will examine you for swelling caused by kidney problems.  \\nf. You can’t join KPMP if you are pregnant. We will ask you if you are \\npregnant before we do your kidney biopsy. We might  also do a \\npregnancy test.  \\ng. We may take other measurements or gather other data that tell us \\nabout your health. For example, we may get data from places like \\nUnited States Renal Data System (USRDS ), which tracks kidney \\ndisease, Centers for Medicare and Medicaid Services (CMS), the National Death Index (NDI), the scientific Registry of Transplant \\nRecipients (SRTR)  and other registries, and electronic health records \\n(EHR) . We may gather this data from these places even if you stop \\ncoming to your follow -up visits. If you do not want us to gather this \\ndata, you must tell us that you no longer want to be in the study.  \\nh. Members of our study coordinating center at the University of Washington may contact you to follow -up if you have study concerns.  \\n4. We will tell you about other studies \\nWe will tell you about other research studies. For example, we might \\nask you to answer more questions  or give more samples. You can \\nsay yes or no to any study and still be part of KPMP.  ', metadata={'page': 3, 'source': 'data-kpmp-oct-23/KPMP_AKI-Consent.pdf'}),\n Document(page_content='FOR IRB USE ONLY  \\nIRB ID #: 201902013 \\nAPPROVAL DATE: 09/18/23  \\nRELEASED DATE: 09/18/23  \\nEXPIRATION DATE: 11/22/23  \\n \\n4 \\nKPMP Doc ID: OPS006 v11  last updated 09.01.2023  • We will ask you about your health including asking you to \\ncomplete a PROM IS Global Health Questionnaire and a \\nPersonal History Questionnaire  \\n• We will ask you about your understanding of your health using \\na questionnaire called a Health Literacy questionnaire . \\n• We will ask you about how you are feeling.  \\n• We will ask you about parts of your life like your job. \\n• After your biopsy,  we will ask you about how you feel about it .  \\nc. We will measure your height and weight.  \\nd. We will measure your blood pressure and temperature.  \\ne. We will examine you for swelling caused by kidney problems.  \\nf. You can’t join KPMP if you are pregnant. We will ask you if you are \\npregnant before we do your kidney biopsy. We might  also do a \\npregnancy test.  \\ng. We may take other measurements or gather other data that tell us \\nabout your health. For example, we may get data from places like \\nUnited States Renal Data System (USRDS ), which tracks kidney \\ndisease, Centers for Medicare and Medicaid Services (CMS), the National Death Index (NDI), the scientific Registry of Transplant \\nRecipients (SRTR)  and other registries, and electronic health records \\n(EHR) . We may gather this data from these places even if you stop \\ncoming to your follow -up visits. If you do not want us to gather this \\ndata, you must tell us that you no longer want to be in the study.  \\nh. Members of our study coordinating center at the University of Washington may contact you to follow -up if you have study concerns.  \\n4. We will tell you about other studies \\nWe will tell you about other research studies. For example, we might \\nask you to answer more questions  or give more samples. You can \\nsay yes or no to any study and still be part of KPMP.  ', metadata={'page': 3, 'source': 'data-kpmp-oct-23/KPMP_AKI-Consent.pdf'}),\n Document(page_content='Document ID: OPS00 1    updated: 06/02/2022     25  \\nVersion #: 09  \\n 5.2.7 Participant Provided Information  \\nParticipant q uestionnaires will supplement data collected through the EHR and in-person interviews and \\nwill reduce the time spent by study personnel during Baseline  visit on data collection. Participants will \\nbe provided the option to fill paper or online questionnaires either before, during or after the Baseline  \\nvisit. The list of questionnaires include s the following: \\n• Demographics  \\n• Health literacy questionnaire  \\n• PROMIS Global Health questionnaire  \\n• Personal Health questionnaire  \\n5.2.8 Electronic Health Record (EHR) Data \\nParticipants will be asked to authorize linkage of their EHR information, if available, to study data. \\nAlthough such linkage involves moderate risks  to pr ivacy and confidentiality (see S ection 10), \\nlongitudinal tracking of health outcomes through EHRs is an important component of the KPMP Research Program. EHR data may be sent directly by the Recruitment Sites to the  Central Hub or sent at \\nthe request of the participant through other means, such as via Sync for Science. If a participant is lost to \\nfollow -up, we will continue to track health outcomes through EHR, unless the participant specifically \\nasks us not to . \\nAccess to EHR data will be updated  regularly throughout the lifespan  of the KPMP . The scope of EHR \\ndata abstracted by the KPMP is expected to change over time. The initial data types to be included are demographics, visits, diagnoses, procedures, medications, laboratory tests, and vital signs. Initial efforts \\nwill be focused on longit udinal data on kidney function and damage (serum creatinine concentrations, \\nurine albumin and protein measurements), medical history  as defined by diagnosis codes, and \\nhospitalizations. Data types may be expanded to all parts of the EHR, including health c are provider \\nnotes or imaging data. The feed may include mental health data, HIV status, substance abuse and \\nalcohol data, and genomic information stored in the EHR.  \\nThe KPMP  Central Hub will create an informatics infrastructure to clean and standardize data from \\ndisparate EHR systems across the KPMP. The KPMP Recruitment Sites will extract data from the \\nparticipant’s EHR, format it according to the Observational Medical Outcomes Partnership [OMOP] Common Data Model (www.OHDSI.org) and transfer it to the  Central Hub using secure protocols. \\n6 Study Goals  \\nThe primary study goal is to ethically obtain and evaluate human kidney biopsies from participants with \\nAKI or CKD in order to create a kidney tissue atlas, define disease subgroups, identify critical cells and \\npathways  driving disease, and discover targets for novel therapies.  Specific g oals of the KPMP include \\nconstruction of  a kidney atlas, development a molecularly based classification of common CKD and AKI , \\nidentification of molecular pathways associated with kidney disease progression and related clinical ', metadata={'page': 24, 'source': 'data-kpmp-oct-23/KPMP_Clinical-Protocol.pdf'}),\n Document(page_content='Document ID: OPS00 1    updated: 06/02/2022     25  \\nVersion #: 09  \\n 5.2.7 Participant Provided Information  \\nParticipant q uestionnaires will supplement data collected through the EHR and in-person interviews and \\nwill reduce the time spent by study personnel during Baseline  visit on data collection. Participants will \\nbe provided the option to fill paper or online questionnaires either before, during or after the Baseline  \\nvisit. The list of questionnaires include s the following: \\n• Demographics  \\n• Health literacy questionnaire  \\n• PROMIS Global Health questionnaire  \\n• Personal Health questionnaire  \\n5.2.8 Electronic Health Record (EHR) Data \\nParticipants will be asked to authorize linkage of their EHR information, if available, to study data. \\nAlthough such linkage involves moderate risks  to pr ivacy and confidentiality (see S ection 10), \\nlongitudinal tracking of health outcomes through EHRs is an important component of the KPMP Research Program. EHR data may be sent directly by the Recruitment Sites to the  Central Hub or sent at \\nthe request of the participant through other means, such as via Sync for Science. If a participant is lost to \\nfollow -up, we will continue to track health outcomes through EHR, unless the participant specifically \\nasks us not to . \\nAccess to EHR data will be updated  regularly throughout the lifespan  of the KPMP . The scope of EHR \\ndata abstracted by the KPMP is expected to change over time. The initial data types to be included are demographics, visits, diagnoses, procedures, medications, laboratory tests, and vital signs. Initial efforts \\nwill be focused on longit udinal data on kidney function and damage (serum creatinine concentrations, \\nurine albumin and protein measurements), medical history  as defined by diagnosis codes, and \\nhospitalizations. Data types may be expanded to all parts of the EHR, including health c are provider \\nnotes or imaging data. The feed may include mental health data, HIV status, substance abuse and \\nalcohol data, and genomic information stored in the EHR.  \\nThe KPMP  Central Hub will create an informatics infrastructure to clean and standardize data from \\ndisparate EHR systems across the KPMP. The KPMP Recruitment Sites will extract data from the \\nparticipant’s EHR, format it according to the Observational Medical Outcomes Partnership [OMOP] Common Data Model (www.OHDSI.org) and transfer it to the  Central Hub using secure protocols. \\n6 Study Goals  \\nThe primary study goal is to ethically obtain and evaluate human kidney biopsies from participants with \\nAKI or CKD in order to create a kidney tissue atlas, define disease subgroups, identify critical cells and \\npathways  driving disease, and discover targets for novel therapies.  Specific g oals of the KPMP include \\nconstruction of  a kidney atlas, development a molecularly based classification of common CKD and AKI , \\nidentification of molecular pathways associated with kidney disease progression and related clinical ', metadata={'page': 24, 'source': 'data-kpmp-oct-23/KPMP_Clinical-Protocol.pdf'})]"
     },
     "execution_count": 56,
     "metadata": {},
     "output_type": "execute_result"
    }
   ],
   "source": [
    "result1['source_documents']"
   ],
   "metadata": {
    "collapsed": false,
    "ExecuteTime": {
     "end_time": "2023-10-25T13:32:48.767929Z",
     "start_time": "2023-10-25T13:32:48.747970Z"
    }
   },
   "id": "2e04d5af529f72b1"
  },
  {
   "cell_type": "code",
   "execution_count": 46,
   "outputs": [
    {
     "data": {
      "text/plain": "'Based on the information provided, the document does not explicitly mention the inclusion criteria for the Kidney Precision Medicine Project (KPMP). It primarily focuses on the goals and objectives of the study, as well as the collection and analysis of kidney biopsy tissue and clinical data. To obtain specific information about the inclusion criteria, it would be best to refer to the official KPMP website or contact the research team directly.'"
     },
     "execution_count": 46,
     "metadata": {},
     "output_type": "execute_result"
    }
   ],
   "source": [
    "question2 = \"What are the inclusion criteria?\"\n",
    "result2 = qa(prompt.format(question=question2))\n",
    "result2['result']"
   ],
   "metadata": {
    "collapsed": false,
    "ExecuteTime": {
     "end_time": "2023-10-25T13:29:51.696148Z",
     "start_time": "2023-10-25T13:29:44.284999Z"
    }
   },
   "id": "516f2d7b81528e57"
  },
  {
   "cell_type": "code",
   "execution_count": 47,
   "outputs": [
    {
     "data": {
      "text/plain": "[Document(page_content='Document ID: OPS00 1   updated: 09/01/2023      6  \\nVersion #: 10 1 Introductio n \\n1.1 Study Overview  \\nThe Kidney Precision Medicine Project (KPMP) is a prospective cohort study , whose goal is to use deep \\nmolecular phenotypes of kidney biopsies , along with longitudinally collected clinical phenotypic data, in \\norder to develop new disease ontologies , classification systems, and treatments for  acute kidney injury \\n(AKI) and chronic kidney disease (CKD). Since its inception, the KPMP has sought out and included \\nsubstantive patient -representative  feedback regarding disease experience, lack of innovation in new \\nkidney disease therapies and patient tolerance for risk levels in balance with potential benefits both to \\nthe individual and society. The KPMP has publicly and operationally committed itself  to always put \\nparticipant s and their best interests first and this foundational principle informs and undergirds every \\nfacet of the study. Both AKI and CKD are conditions that impose a significant global health burden. Yet, \\nno effective therapies currently exist for AKI, and only a few are available for CKD. To address this need, \\nKPMP will obtain kidney biopsy tissue from study participants with AKI or CKD. The network will utilize \\nstate -of-the-art methods to perform molecular interrogation of the tissue and to link the molecular data \\nto kidney structure and clinical information in the form of a human kidney atlas. Molecular and imaging \\ndata derived from kidney tissue will be integrated with clinic o-pathologic and genetic information, as \\nwell as other dat a derived from analyses of fluid biospecimens, including peripheral blood , urine, and \\nstool . Using advanced analytics to integrate the data, KPMP will aim to define kidney disease subgroups \\nin molecular terms by identifying critical cells, pathways and targets for novel therapies. The general structure of the KPMP consortium is summarized in Figure 1. A detailed list of participating institutions is \\navailable on the KPMP website at https://www.kpmp.org/consortium- members .\\n \\n \\n \\n \\n \\n  \\n \\n  \\n \\n \\n \\n ', metadata={'page': 5, 'source': 'data-kpmp-oct-23/KPMP_Clinical-Protocol.pdf'}),\n Document(page_content='Document ID: OPS00 1    updated: 06/02/2022     25  \\nVersion #: 09  \\n 5.2.7 Participant Provided Information  \\nParticipant q uestionnaires will supplement data collected through the EHR and in-person interviews and \\nwill reduce the time spent by study personnel during Baseline  visit on data collection. Participants will \\nbe provided the option to fill paper or online questionnaires either before, during or after the Baseline  \\nvisit. The list of questionnaires include s the following: \\n• Demographics  \\n• Health literacy questionnaire  \\n• PROMIS Global Health questionnaire  \\n• Personal Health questionnaire  \\n5.2.8 Electronic Health Record (EHR) Data \\nParticipants will be asked to authorize linkage of their EHR information, if available, to study data. \\nAlthough such linkage involves moderate risks  to pr ivacy and confidentiality (see S ection 10), \\nlongitudinal tracking of health outcomes through EHRs is an important component of the KPMP Research Program. EHR data may be sent directly by the Recruitment Sites to the  Central Hub or sent at \\nthe request of the participant through other means, such as via Sync for Science. If a participant is lost to \\nfollow -up, we will continue to track health outcomes through EHR, unless the participant specifically \\nasks us not to . \\nAccess to EHR data will be updated  regularly throughout the lifespan  of the KPMP . The scope of EHR \\ndata abstracted by the KPMP is expected to change over time. The initial data types to be included are demographics, visits, diagnoses, procedures, medications, laboratory tests, and vital signs. Initial efforts \\nwill be focused on longit udinal data on kidney function and damage (serum creatinine concentrations, \\nurine albumin and protein measurements), medical history  as defined by diagnosis codes, and \\nhospitalizations. Data types may be expanded to all parts of the EHR, including health c are provider \\nnotes or imaging data. The feed may include mental health data, HIV status, substance abuse and \\nalcohol data, and genomic information stored in the EHR.  \\nThe KPMP  Central Hub will create an informatics infrastructure to clean and standardize data from \\ndisparate EHR systems across the KPMP. The KPMP Recruitment Sites will extract data from the \\nparticipant’s EHR, format it according to the Observational Medical Outcomes Partnership [OMOP] Common Data Model (www.OHDSI.org) and transfer it to the  Central Hub using secure protocols. \\n6 Study Goals  \\nThe primary study goal is to ethically obtain and evaluate human kidney biopsies from participants with \\nAKI or CKD in order to create a kidney tissue atlas, define disease subgroups, identify critical cells and \\npathways  driving disease, and discover targets for novel therapies.  Specific g oals of the KPMP include \\nconstruction of  a kidney atlas, development a molecularly based classification of common CKD and AKI , \\nidentification of molecular pathways associated with kidney disease progression and related clinical ', metadata={'page': 24, 'source': 'data-kpmp-oct-23/KPMP_Clinical-Protocol.pdf'}),\n Document(page_content='The Kidney Precision Medicine Project (KPMP) is a prospective cohort study, whose goal is to use deep molecular phenotypes of kidney biopsies, along with longitudinally collected clinical phenotypic data, in order to develop new disease ontologies, classification systems, and treatments for acute kidney injury (AKI) and chronic kidney disease (CKD). Since its inception, the KPMP has sought out and included substantive patient-representative feedback regarding disease experience, lack of innovation in new kidney disease therapies and patient tolerance for risk levels in balance with potential benefits both to the individual and society. The KPMP has publicly and operationally committed itself to always put participants and their best interests first and this foundational principle informs and undergirds every facet of the study. Both AKI and CKD are conditions that impose a significant global health burden. Yet, no effective therapies currently exist for AKI, and only a few are available for CKD. To address this need, KPMP will obtain kidney biopsy tissue from study participants with AKI or CKD. The network will utilize state-of-the-art methods to perform molecular interrogation of the tissue and to link the molecular data to kidney structure and clinical information in the form of a human kidney atlas. Molecular and imaging data derived from kidney tissue will be integrated with clinico-pathologic and genetic information, as well as other data derived from analyses of fluid biospecimens, including peripheral blood, urine, and stool. Using advanced analytics to integrate the data, KPMP will aim to define kidney disease subgroups in molecular terms by identifying critical cells, pathways and targets for novel therapies. The general structure of the KPMP consortium is summarized in Figure 1. A detailed list of participating institutions is available on the KPMP website at https://www.kpmp.org/consortium-members.', metadata={'source': 'data-kpmp-oct-23/KPMP_Clinical-Protocol.pdf'}),\n Document(page_content='FOR IRB USE ONLY IRB ID #: 201902013 APPROVAL DATE: 09/18/23 RELEASED DATE: 09/18/23 EXPIRATION DATE: 11/22/23\\n\\nConsent to join the\\n\\nKidney Precision Medicine Project\\n\\nPerson in charge of this study (Principal Investigator): [PI Name]\\n\\nPerson organizing this study (Contact Person): [Research Team Contact Name and Phone Number]\\n\\nThe sponsor of this study: National Institutes of Health (NIH)\\n\\nThis form tells about the Kidney Precision Medicine Project (KPMP). KPMP is a research study. It is not medical care. Joining KPMP is voluntary. You can choose to join or not. No matter what you decide, you will still get the best care possible.\\n\\nReview this form carefully. It tells all about KPMP so you can decide if you want to join. We will give you a copy of it to keep. If you have questions, please ask us.\\n\\nHere are some key points about KPMP:\\n\\nIf you join, we will take a biopsy (a few small pieces) of your kidney.', metadata={'source': 'data-kpmp-oct-23/KPMP_CKD-Consent.pdf'})]"
     },
     "execution_count": 47,
     "metadata": {},
     "output_type": "execute_result"
    }
   ],
   "source": [
    "result2['source_documents']\n"
   ],
   "metadata": {
    "collapsed": false,
    "ExecuteTime": {
     "end_time": "2023-10-25T13:29:55.953063Z",
     "start_time": "2023-10-25T13:29:55.947965Z"
    }
   },
   "id": "ffc920460982cb88"
  },
  {
   "cell_type": "code",
   "execution_count": 48,
   "outputs": [
    {
     "data": {
      "text/plain": "\"Based on the information provided, there is no specific mention of a hemoglobin drop in the context. Therefore, I don't have enough information to answer your question about a hemoglobin drop.\""
     },
     "execution_count": 48,
     "metadata": {},
     "output_type": "execute_result"
    }
   ],
   "source": [
    "qa(prompt.format(question=\"hemoglobin drop\"))['result']"
   ],
   "metadata": {
    "collapsed": false,
    "ExecuteTime": {
     "end_time": "2023-10-25T13:30:00.379982Z",
     "start_time": "2023-10-25T13:29:56.606276Z"
    }
   },
   "id": "39b6a37409a583e5"
  },
  {
   "cell_type": "code",
   "execution_count": null,
   "outputs": [],
   "source": [],
   "metadata": {
    "collapsed": false
   },
   "id": "3591c5150892f056"
  }
 ],
 "metadata": {
  "kernelspec": {
   "display_name": "Python 3 (ipykernel)",
   "language": "python",
   "name": "python3"
  },
  "language_info": {
   "codemirror_mode": {
    "name": "ipython",
    "version": 3
   },
   "file_extension": ".py",
   "mimetype": "text/x-python",
   "name": "python",
   "nbconvert_exporter": "python",
   "pygments_lexer": "ipython3",
   "version": "3.10.9"
  }
 },
 "nbformat": 4,
 "nbformat_minor": 5
}
